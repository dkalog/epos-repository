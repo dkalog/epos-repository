{
 "cells": [
  {
   "cell_type": "code",
   "execution_count": 1,
   "metadata": {},
   "outputs": [
    {
     "name": "stdout",
     "output_type": "stream",
     "text": [
      "Number of correspondences loaded =  95\n"
     ]
    }
   ],
   "source": [
    "import numpy as np\n",
    "import matplotlib.pyplot as plt\n",
    "import cv2\n",
    "import pygcransac\n",
    "from time import time\n",
    "\n",
    "correspondences = np.loadtxt('img/pose6dscene_points.txt')\n",
    "gt_pose = np.loadtxt('img/pose6dscene_gt.txt')\n",
    "intrinsic_params = np.loadtxt('img/pose6dscene.K')\n",
    "\n",
    "print(\"Number of correspondences loaded = \", str(len(correspondences)))"
   ]
  },
  {
   "cell_type": "code",
   "execution_count": 2,
   "metadata": {},
   "outputs": [],
   "source": [
    "def verify_pygcransac(corrs, K):    \n",
    "    n = len(correspondences)\n",
    "    imagePoints = np.float32([corrs[i][0:2] for i in np.arange(n)]).reshape(-1,2)\n",
    "    worldPoints = np.float32([corrs[i][2:5] for i in np.arange(n)]).reshape(-1,3)\n",
    "    \n",
    "    threshold = 5.5\n",
    "    normalized_threshold = threshold / (K[0, 0] + K[1, 1]) / 2.0;    \n",
    "    pose, mask = pygcransac.find6DPose(imagePoints, worldPoints, normalized_threshold, 0.999)    \n",
    "    return pose, mask\n",
    "\n",
    "def normalize_image_points(corrs, K): \n",
    "    n = len(corrs)\n",
    "    normalized_correspondences = corrs\n",
    "    inv_K = np.linalg.inv(K)\n",
    "\n",
    "    for i in range(n):\n",
    "        p1 = np.append(correspondences[i][0:2], 1)\n",
    "        p2 = inv_K.dot(p1)\n",
    "        normalized_correspondences[i][0:2] = p2[0:2]\n",
    "    return normalized_correspondences\n",
    "\n",
    "def calculate_error(gt_pose, est_pose):\n",
    "    \n",
    "    R2R1 = np.dot(gt_pose[:, 0:3].T, est_pose[:, 0:3])\n",
    "    cos_angle = max(-1.0, min(1.0, 0.5 * (R2R1.trace() - 1.0)))\n",
    "    \n",
    "    err_R = np.arccos(cos_angle) * 180.0 / np.pi\n",
    "    err_t = np.linalg.norm(gt_pose[:, 3] - est_pose[:, 3])\n",
    "    \n",
    "    return err_R, err_t\n"
   ]
  },
  {
   "cell_type": "code",
   "execution_count": 3,
   "metadata": {},
   "outputs": [
    {
     "name": "stdout",
     "output_type": "stream",
     "text": [
      "0.5245976448059082  sec gc-ransac\n",
      "Rotation error =  1.8783020217535148e-05 °\n",
      "Translation error =  0.0001007179771463513  mm\n"
     ]
    }
   ],
   "source": [
    "normalized_correspondences = normalize_image_points(correspondences, intrinsic_params)\n",
    "\n",
    "t = time()\n",
    "\n",
    "mag_pose, mag_mask = verify_pygcransac(normalized_correspondences, intrinsic_params)\n",
    "print (time()-t, ' sec gc-ransac')\n",
    "\n",
    "err_R, err_t = calculate_error(gt_pose, mag_pose)\n",
    "\n",
    "print ('Rotation error = ', err_R, '°')\n",
    "print ('Translation error = ', err_t, ' mm')"
   ]
  },
  {
   "cell_type": "code",
   "execution_count": null,
   "metadata": {},
   "outputs": [],
   "source": []
  },
  {
   "cell_type": "code",
   "execution_count": 3,
   "metadata": {},
   "outputs": [],
   "source": [
    "corrs = np.array([\n",
    "  [174.0, 178.0, -44.40372861289978, 18.693654983043672, 68.97037449645995],\n",
    "  [178.0, 178.0, -42.94194043540955, 21.301651029586793, 68.77027169036865],\n",
    "  [182.0, 178.0, -41.36653555297852, 23.828399448394777, 68.61285439300536],\n",
    "  [186.0, 178.0, -39.76021231079102, 26.33738639831543, 68.4661106185913],\n",
    "  [190.0, 178.0, -37.8753932800293, 28.63038471221924, 68.42730656433105],\n",
    "  [146.0, 182.0, -48.71257399749756, -3.815829544067384, 69.53627783966064],\n",
    "  [150.0, 182.0, -47.68054612731933, -0.975803936958313, 69.1851196460724],\n",
    "  [154.0, 182.0, -47.087395034790035, 2.2029190406799315, 68.66197963285447],\n",
    "  [158.0, 182.0, -45.841171585083, 4.910026584625244, 68.38803096342087],\n",
    "  [162.0, 182.0, -43.799498878479, 7.026360069274903, 68.42106624174119],\n",
    "  [166.0, 182.0, -42.43735059356689, 9.660711799621582, 68.1891021900177],\n",
    "  [138.0, 194.0, -35.662597648620604, -20.771013258695604, 67.11075592947006],\n",
    "  [142.0, 194.0, -33.36214446258545, -18.95072355747223, 67.26926423025131],\n",
    "  [146.0, 194.0, -30.96948622894287, -17.20125177383423, 67.4653167219162],\n",
    "  [150.0, 194.0, -29.136329613685607, -15.043678726196289, 67.43852234113217],\n",
    "  [154.0, 194.0, -27.904422722816467, -12.437220062255859, 67.17009733843804]\n",
    "], np.float64)"
   ]
  },
  {
   "cell_type": "code",
   "execution_count": 4,
   "metadata": {},
   "outputs": [],
   "source": [
    "\n",
    "# 2D image coordinates (in px).\n",
    "corr_2d = corrs[:, :2]\n",
    "\n",
    "# 3D model coordinates (in mm).\n",
    "corr_3d = corrs[:, 2:]\n",
    "\n",
    "# Intrinsics.\n",
    "K = np.array([\n",
    "  [1066.778, 0.0, 312.9869],\n",
    "  [0.0, 1067.487, 241.3109],\n",
    "  [0.0, 0.0, 1.0]\n",
    "], np.float64)\n",
    "\n",
    "# Inlier threshold (in px).\n",
    "inlier_thresh = 4.0"
   ]
  },
  {
   "cell_type": "code",
   "execution_count": 5,
   "metadata": {},
   "outputs": [
    {
     "name": "stdout",
     "output_type": "stream",
     "text": [
      "----------------------\n",
      "OpenCV PnP-RANSAC\n",
      "Success: True\n",
      "R: [[ 0.7091456   0.70483857  0.01775135]\n",
      " [ 0.25790341 -0.23588271 -0.93693392]\n",
      " [-0.65619993  0.6690007  -0.34905546]]\n",
      "t: [[-86.4400753 ]\n",
      " [ 33.35438989]\n",
      " [777.05154377]]\n",
      "16\n"
     ]
    }
   ],
   "source": [
    "# OpenCV PnP-RANSAC.\n",
    "# ------------------------------------------------------------------------------\n",
    "est_cv_success, r_est_cv, t_est_cv, inliers = cv2.solvePnPRansac(\n",
    "  objectPoints=corr_3d,\n",
    "  imagePoints=corr_2d,\n",
    "  cameraMatrix=K,\n",
    "  distCoeffs=None,\n",
    "  iterationsCount=400,\n",
    "  reprojectionError=inlier_thresh,\n",
    "  confidence=0.99,\n",
    "  flags=cv2.SOLVEPNP_EPNP)\n",
    "\n",
    "# Rodrigues rotation vector to a 3x3 rotation matrix.\n",
    "R_est_cv = cv2.Rodrigues(r_est_cv)[0]\n",
    "\n",
    "print('----------------------')\n",
    "print('OpenCV PnP-RANSAC')\n",
    "print('Success: {}'.format(est_cv_success))\n",
    "print('R: {}'.format(R_est_cv))\n",
    "print('t: {}'.format(t_est_cv))\n",
    "print(inliers.size)"
   ]
  },
  {
   "cell_type": "code",
   "execution_count": 8,
   "metadata": {},
   "outputs": [
    {
     "name": "stdout",
     "output_type": "stream",
     "text": [
      "----------------------\n",
      "GC-RANSAC\n",
      "Success: True\n",
      "R: [[ 0.70914537  0.7048388   0.01775099]\n",
      " [ 0.25790322 -0.23588283 -0.93693393]\n",
      " [-0.65620023  0.66900045 -0.3490554 ]]\n",
      "t: [[-86.44009 ]\n",
      " [ 33.354374]\n",
      " [777.0517  ]]\n",
      "0.003748363019587539\n"
     ]
    }
   ],
   "source": [
    "# GC-RANSAC.\n",
    "# ------------------------------------------------------------------------------\n",
    "# Normalized inlier threshold on the reprojection error (used in PnP-RANSAC).\n",
    "f = (K[0, 0] + K[1, 1]) / 2.0\n",
    "inlier_thresh_normalized = inlier_thresh / f\n",
    "\n",
    "# Normalize the 2D image coordinates.\n",
    "K_inv = np.linalg.inv(K)\n",
    "corr_2d_h = np.hstack((corr_2d, np.ones((corr_2d.shape[0], 1))))\n",
    "corr_2d_normalized = K_inv[:2, :].dot(corr_2d_h.T).T\n",
    "\n",
    "#corr_2d_normalized = np.float32([corr_2d_normalized[i][0:2] for i in np.arange(corr_2d_normalized.shape[0])]).reshape(-1,2)\n",
    "corr_2d_normalized = np.array([r for r in corr_2d_normalized])\n",
    "\n",
    "pose, mask = pygcransac.find6DPoseEPOS(\n",
    "  x1y1=corr_2d_normalized.astype(np.float32),\n",
    "  x2y2z2=corr_3d.astype(np.float32),\n",
    "  K=K.astype(np.float32),\n",
    "  threshold=inlier_thresh_normalized,\n",
    "  conf=0.999999,\n",
    "  spatial_coherence_weight=0.0,\n",
    "  max_iters=1000000)\n",
    "est_gc_success = pose is not None\n",
    "R_est_gc = np.float32(pose[:3, :3])\n",
    "t_est_gc = np.float32(pose[:, 3].reshape((3, 1)))\n",
    "\n",
    "print('----------------------')\n",
    "print('GC-RANSAC')\n",
    "print('Success: {}'.format(est_gc_success))\n",
    "print('R: {}'.format(R_est_gc))\n",
    "print('t: {}'.format(t_est_gc))\n",
    "print(inlier_thresh_normalized)\n"
   ]
  },
  {
   "cell_type": "code",
   "execution_count": null,
   "metadata": {},
   "outputs": [],
   "source": []
  },
  {
   "cell_type": "code",
   "execution_count": null,
   "metadata": {},
   "outputs": [],
   "source": []
  },
  {
   "cell_type": "code",
   "execution_count": null,
   "metadata": {},
   "outputs": [],
   "source": []
  }
 ],
 "metadata": {
  "kernelspec": {
   "display_name": "Python 3",
   "language": "python",
   "name": "python3"
  },
  "language_info": {
   "codemirror_mode": {
    "name": "ipython",
    "version": 3
   },
   "file_extension": ".py",
   "mimetype": "text/x-python",
   "name": "python",
   "nbconvert_exporter": "python",
   "pygments_lexer": "ipython3",
   "version": "3.6.7"
  }
 },
 "nbformat": 4,
 "nbformat_minor": 4
}
